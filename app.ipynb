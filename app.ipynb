{
 "cells": [
  {
   "cell_type": "code",
   "execution_count": null,
   "metadata": {},
   "outputs": [],
   "source": [
    "# !python -m pip install paddlepaddle-gpu -i https://mirror.baidu.com/pypi/simple\n",
    "# !git clone https://github.com/PaddlePaddle/PaddleOCR\n",
    "# !pip install paddleocr"
   ]
  },
  {
   "cell_type": "code",
   "execution_count": null,
   "metadata": {},
   "outputs": [],
   "source": [
    "from paddleocr import PaddleOCR, draw_ocr # main OCR dependencies\n",
    "from matplotlib import pyplot as plt # plot images\n",
    "import cv2\n",
    "import numpy as np\n",
    "from PIL import Image, ImageDraw\n",
    "import os\n",
    "from tqdm.notebook import tqdm"
   ]
  },
  {
   "cell_type": "code",
   "execution_count": null,
   "metadata": {},
   "outputs": [],
   "source": [
    "ocr_model = PaddleOCR(lang='en')"
   ]
  },
  {
   "cell_type": "code",
   "execution_count": null,
   "metadata": {},
   "outputs": [],
   "source": [
    "def getMask(inputP):\n",
    "    result = ocr_model.ocr(inputP)\n",
    "    img = Image.open(inputP)\n",
    "    shape = img.size\n",
    "    array_created = Image.new(\"RGB\", shape, (0,0,0)) \n",
    "    for res in result:\n",
    "        img1 = ImageDraw.Draw(array_created)\n",
    "        factor = 4\n",
    "        img1.polygon((res[0][0][0]-factor,res[0][0][1]-factor,min(res[0][1][0]+factor,shape[1]),res[0][1][1]-factor,min(res[0][2][0]+factor,shape[1]),min(res[0][2][1]+factor,shape[0]),res[0][3][0]-factor,min(res[0][3][1]+factor,shape[0])), fill =(255,255,255))\n",
    "\n",
    "    return array_created"
   ]
  },
  {
   "cell_type": "markdown",
   "metadata": {},
   "source": [
    "## Single Inference"
   ]
  },
  {
   "cell_type": "code",
   "execution_count": null,
   "metadata": {},
   "outputs": [],
   "source": [
    "filename = \"./data/input/1639465458479.png\""
   ]
  },
  {
   "cell_type": "code",
   "execution_count": null,
   "metadata": {},
   "outputs": [],
   "source": [
    "getMask(filename)"
   ]
  },
  {
   "cell_type": "markdown",
   "metadata": {},
   "source": [
    "## Multiple Inference"
   ]
  },
  {
   "cell_type": "code",
   "execution_count": null,
   "metadata": {},
   "outputs": [],
   "source": [
    "inputP = \"./data/input/\"\n",
    "outputP = \"./data/output\"\n",
    "if not os.path.isdir(outputP):\n",
    "    os.makedirs(outputP)"
   ]
  },
  {
   "cell_type": "code",
   "execution_count": null,
   "metadata": {},
   "outputs": [],
   "source": [
    "for imgN in tqdm(os.listdir(inputP)):\n",
    "    imgP = os.path.join(inputP,imgN)\n",
    "    saveP = os.path.join(outputP,imgN)\n",
    "    mask = getMask(imgP)\n",
    "    mask.save(saveP)\n",
    "\n"
   ]
  },
  {
   "cell_type": "code",
   "execution_count": null,
   "metadata": {},
   "outputs": [],
   "source": []
  }
 ],
 "metadata": {
  "interpreter": {
   "hash": "64fcbad56515c91cf1e5b4c24334ae7b3bc73608a1dfd67ff0db47db0e2d9b9b"
  },
  "kernelspec": {
   "display_name": "Python 3.7.13 ('paddleocr')",
   "language": "python",
   "name": "python3"
  },
  "language_info": {
   "codemirror_mode": {
    "name": "ipython",
    "version": 3
   },
   "file_extension": ".py",
   "mimetype": "text/x-python",
   "name": "python",
   "nbconvert_exporter": "python",
   "pygments_lexer": "ipython3",
   "version": "3.7.13"
  }
 },
 "nbformat": 4,
 "nbformat_minor": 4
}
